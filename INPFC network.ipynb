{
 "cells": [
  {
   "cell_type": "markdown",
   "id": "2cebd395",
   "metadata": {},
   "source": [
    "# First, import the necessary packages and compile the .mod files:\n",
    "\n",
    "This is a model network of prefrontal cortical microcircuit based primarily on rodent data (see ref below). It includes 16 pyramidal model neurons, 2 fast spiking interneuron models, 1 regular spiking interneuron model and 1 irregular spiking interneuron model. The goal of the paper was to use this model network to determine the role of specific interneuron subtypes in persistent activity\n",
    "\n",
    "Konstantoudaki X, Papoutsi A, Chalkiadaki K, Poirazi P, Sidiropoulou K\n",
    "(2014) Modulatory effects of inhibition on persistent activity in a\n",
    "cortical microcircuit model. Front Neural Circuits 8:7"
   ]
  },
  {
   "cell_type": "code",
   "execution_count": 1,
   "id": "cb7a0bc5",
   "metadata": {},
   "outputs": [
    {
     "name": "stdout",
     "output_type": "stream",
     "text": [
      "/users/k1926552/Documents\n"
     ]
    }
   ],
   "source": [
    "cd ../"
   ]
  },
  {
   "cell_type": "code",
   "execution_count": 2,
   "id": "bfa78b6a",
   "metadata": {},
   "outputs": [
    {
     "name": "stdout",
     "output_type": "stream",
     "text": [
      "/users/k1926552/Documents/KonstantoudakiEtAl2014/experiment\n"
     ]
    }
   ],
   "source": [
    "cd KonstantoudakiEtAl2014/experiment/"
   ]
  },
  {
   "cell_type": "code",
   "execution_count": null,
   "id": "4ec6322d",
   "metadata": {
    "scrolled": false
   },
   "outputs": [],
   "source": [
    "#!nrnivmodl"
   ]
  },
  {
   "cell_type": "code",
   "execution_count": 13,
   "id": "2c9f68df",
   "metadata": {},
   "outputs": [],
   "source": [
    "from netpyne import specs, sim\n",
    "from netpyne.specs import Dict\n",
    "import os\n",
    "import math\n",
    "netParams = specs.NetParams()  # object of class NetParams to store the network parameters\n",
    "simConfig = specs.SimConfig()  # dictionary to store sets of simulation configurations"
   ]
  },
  {
   "cell_type": "markdown",
   "id": "f9398911",
   "metadata": {},
   "source": [
    "# Import the cell types from the .hoc files:\n",
    "\n",
    "The incell.hoc contains the code for the fast spiking interneuron\n",
    "model, the cb.hoc the code for the regular spiking interneuron model\n",
    "and the cr.hoc the code for the irregular spiking interneuron\n",
    "model. The pfc_pc_temp.hoc contains the code for the morphology and\n",
    "biophysical mechanisms of the pyramidal neurons used."
   ]
  },
  {
   "cell_type": "code",
   "execution_count": 14,
   "id": "8b901082",
   "metadata": {},
   "outputs": [
    {
     "data": {
      "text/plain": [
       "{conds: {cellType: 'PYR', cellModel: 'Pcell'}, secs: {soma: {geom: {L: 86.3, nseg: 3, diam: 10.14, Ra: 150.0, cm: 1.2}, topol: {}, mechs: {IKs: {gKsbar: 0.0006}, Naf: {gnafbar: 0.10799999999999998}, Nap: {gnapbar: 1.8000000000000001e-06, DA_alphamshift: 0.0, DA_betamshift: 0.0, DA_alphahfactor: 0.0, DA_betahfactor: 0.0}, cadyn: {}, cal: {gcalbar: 3e-05}, calc: {gcabar: 1e-05}, can: {gcabar: 2e-05}, car: {gcabar: 3e-08}, cat: {gcatbar: 6e-06}, h: {K: 10.0, gbar: 9e-06, vhalf: -90.0}, iC: {gkcbar: 0.0022}, ican: {gbar: 0.0}, kad: {gkabar: 0.0007}, kca: {gbar: 0.025}, kdr: {gkdrbar: 0.005399999999999999}, pas: {g: 9e-05, e: -65.0}}, ions: {ca: {e: 132.4579341637009, i: 5e-05, o: 2.0}, hi: {e: 0.0, i: 1.0, o: 1.0}, k: {e: -77.0, i: 54.4, o: 2.5}, n: {e: 0.0, i: 1.0, o: 1.0}, na: {e: 50.0, i: 10.0, o: 140.0}}}, dend_0: {geom: {L: 150.0, nseg: 9, diam: 1.0, Ra: 150.0, cm: 2.4}, topol: {parentSec: 'soma', parentX: 0.0, childX: 0.0}, mechs: {IKs: {gKsbar: 0.0012}, Naf: {gnafbar: 0.0018}, Nap: {gnapbar: 1.8e-05, DA_alphamshift: 0.0, DA_betamshift: 0.0, DA_alphahfactor: 0.0, DA_betahfactor: 0.0}, cadyn: {}, cal: {gcalbar: 3e-05}, calc: {gcabar: 1e-05}, can: {gcabar: 6e-05}, car: {gcabar: 9e-08}, cat: {gcatbar: 6e-05}, h: {K: 10.0, gbar: 9e-06, vhalf: -90.0}, iC: {gkcbar: 2.2e-06}, ican: {gbar: 0.0}, kad: {gkabar: 0.0007}, kca: {gbar: 2.5e-05}, kdr: {gkdrbar: 0.0338}, pas: {g: 0.00017, e: -65.0}}, ions: {ca: {e: 132.4579341637009, i: 5e-05, o: 2.0}, hi: {e: 0.0, i: 1.0, o: 1.0}, k: {e: -77.0, i: 54.4, o: 2.5}, n: {e: 0.0, i: 1.0, o: 1.0}, na: {e: 50.0, i: 10.0, o: 140.0}}}, dend_1: {geom: {L: 400.0, nseg: 17, diam: 2.6, Ra: 150.0, cm: 2.4}, topol: {parentSec: 'soma', parentX: 1.0, childX: 0.0}, mechs: {IKs: {gKsbar: 0.0012}, Naf: {gnafbar: 0.0072}, Nap: {gnapbar: 5.4e-05, DA_alphamshift: 0.0, DA_betamshift: 0.0, DA_alphahfactor: 0.0, DA_betahfactor: 0.0}, cadyn: {}, calc: {gcabar: 1e-05}, can: {gcabar: 6e-05}, car: {gcabar: 9e-08}, cat: {gcatbar: 6e-05}, h: {K: 10.0, gbar: 9e-06, vhalf: -90.0}, iC: {gkcbar: 2.2000000000000003e-05}, ican: {gbar: 0.0}, kad: {gkabar: 0.0007}, kca: {gbar: 0.0025000000000000005}, kdr: {gkdrbar: 2.1599999999999996e-05}, pas: {g: 0.00017, e: -65.0}}, ions: {ca: {e: 132.4579341637009, i: 5e-05, o: 2.0}, hi: {e: 0.0, i: 1.0, o: 1.0}, k: {e: -77.0, i: 54.4, o: 2.5}, n: {e: 0.0, i: 1.0, o: 1.0}, na: {e: 50.0, i: 10.0, o: 140.0}}}, dend_2: {geom: {L: 400.0, nseg: 5, diam: 2.6, Ra: 150.0, cm: 2.4}, topol: {parentSec: 'dend_1', parentX: 1.0, childX: 0.0}, mechs: {IKs: {gKsbar: 0.0012}, Naf: {gnafbar: 0.0036}, Nap: {gnapbar: 0.00018, DA_alphamshift: 0.0, DA_betamshift: 0.0, DA_alphahfactor: 0.0, DA_betahfactor: 0.0}, cadyn: {}, calc: {gcabar: 3e-06}, can: {gcabar: 0.001}, car: {gcabar: 1.5e-06}, cat: {gcatbar: 6e-06}, h: {K: 10.0, gbar: 9e-05, vhalf: -90.0}, iC: {gkcbar: 2.2e-06}, ican: {gbar: 0.0}, kad: {gkabar: 7.000000000000001e-05}, kdr: {gkdrbar: 5.399999999999999e-06}, pas: {g: 0.00017, e: -65.0}}, ions: {ca: {e: 132.4579341637009, i: 5e-05, o: 2.0}, hi: {e: 0.0, i: 1.0, o: 1.0}, k: {e: -77.0, i: 54.4, o: 2.5}, n: {e: 0.0, i: 1.0, o: 1.0}, na: {e: 50.0, i: 10.0, o: 140.0}}}, axon: {geom: {L: 113.22, nseg: 1, diam: 1.1, Ra: 150.0, cm: 1.2}, topol: {parentSec: 'soma', parentX: 0.5, childX: 0.0}, mechs: {Naf: {gnafbar: 0.18}, kdr: {gkdrbar: 0.005399999999999999}, pas: {g: 8.5e-05, e: -65.0}}, ions: {k: {e: -77.0, i: 54.4, o: 2.5}, na: {e: 50.0, i: 10.0, o: 140.0}}}}, secLists: {SectionList[0]: [], SectionList[1]: [], SectionList[2]: [], SectionList[3]: [], SectionList[4]: [], SectionList[5]: [], SectionList[6]: [], SectionList[7]: [], SectionList[8]: [], SectionList[9]: [], SectionList[10]: [], SectionList[11]: []}, globals: {celsius: 23.0, ki0_k_ion: 140.0, ko0_k_ion: 3.82}, _repr_mimebundle_: {}}"
      ]
     },
     "execution_count": 14,
     "metadata": {},
     "output_type": "execute_result"
    }
   ],
   "source": [
    "netParams.importCellParams(\n",
    "        label='PYR',\n",
    "        conds={'cellType': 'PYR', 'cellModel': 'Pcell'},\n",
    "        fileName='pfc_pc_temp.hoc',\n",
    "        cellName='Pcell',\n",
    "        importSynMechs=True)"
   ]
  },
  {
   "cell_type": "code",
   "execution_count": 15,
   "id": "e00df73f",
   "metadata": {},
   "outputs": [
    {
     "data": {
      "text/plain": [
       "{conds: {cellType: 'FSIN', cellModel: 'INcell'}, secs: {soma: {geom: {L: 27.0, nseg: 1, diam: 29.0, Ra: 150.0, cm: 1.2}, topol: {}, mechs: {IKsin: {gKsbar: 7.25e-05}, Nafx: {gnafbar: 0.045, ar2: 1.0}, cadynin: {}, canin: {gcalbar: 0.0003}, hin: {K: 10.0, gbar: 1e-05, vhalf: -90.0}, kapin: {gkabar: 0.048}, kctin: {gkcbar: 0.0001}, kdrin: {gkdrbar: 0.018}, pas: {g: 0.0001, e: 0.0}}, ions: {ca: {e: 132.4579341637009, i: 5e-05, o: 2.0}, hi: {e: 0.0, i: 1.0, o: 1.0}, k: {e: -77.0, i: 54.4, o: 2.5}, na: {e: 50.0, i: 10.0, o: 140.0}}}, axon: {geom: {L: 115.0, nseg: 1, diam: 1.5, Ra: 150.0, cm: 1.2}, topol: {parentSec: 'soma', parentX: 0.5, childX: 0.0}, mechs: {Nafx: {gnafbar: 0.44999999999999996, ar2: 1.0}, kdrin: {gkdrbar: 0.009}, pas: {g: 0.0001, e: -73.0}}, ions: {k: {e: -77.0, i: 54.4, o: 2.5}, na: {e: 50.0, i: 10.0, o: 140.0}}}, dend: {geom: {L: 22.0, nseg: 1, diam: 7.0, Ra: 150.0, cm: 1.2}, topol: {parentSec: 'soma', parentX: 0.0, childX: 0.0}, mechs: {Nafx: {gnafbar: 0.09, ar2: 1.0}, kapin: {gkabar: 0.48}, kdrin: {gkdrbar: 0.009}, pas: {g: 0.0001, e: -73.0}}, ions: {k: {e: -77.0, i: 54.4, o: 2.5}, na: {e: 50.0, i: 10.0, o: 140.0}}}}, secLists: {SectionList[0]: [], SectionList[1]: [], SectionList[2]: [], SectionList[3]: [], SectionList[4]: [], SectionList[5]: [], SectionList[6]: [], SectionList[7]: [], SectionList[8]: [], SectionList[9]: [], SectionList[10]: [], SectionList[11]: []}, globals: {celsius: 23.0, ki0_k_ion: 140.0, ko0_k_ion: 3.82}, _repr_mimebundle_: {}}"
      ]
     },
     "execution_count": 15,
     "metadata": {},
     "output_type": "execute_result"
    }
   ],
   "source": [
    "netParams.importCellParams(\n",
    "        label='FSIN',\n",
    "        conds={'cellType': 'FSIN', 'cellModel': 'INcell'},\n",
    "        fileName='incell.hoc',\n",
    "        cellName='INcell',\n",
    "        importSynMechs=True)"
   ]
  },
  {
   "cell_type": "code",
   "execution_count": 16,
   "id": "9e4eaad6",
   "metadata": {},
   "outputs": [
    {
     "data": {
      "text/plain": [
       "{conds: {cellType: 'RSIN', cellModel: 'CBcell'}, secs: {soma: {geom: {L: 42.0, nseg: 1, diam: 42.0, Ra: 150.0, cm: 1.2}, topol: {}, mechs: {Nafx: {gnafbar: 0.075, ar2: 1.0}, cadyn: {}, catcb: {gcatbar: 0.003}, hcb: {K: 10.0, gbar: 2e-06, vhalf: -90.0}, kapcb: {gkabar: 0.035}, kdrcb: {gkdrbar: 0.018}, pas: {g: 2.5e-05, e: 0.0}}, ions: {ca: {e: 132.4579341637009, i: 5e-05, o: 2.0}, hi: {e: 0.0, i: 1.0, o: 1.0}, k: {e: -77.0, i: 54.4, o: 2.5}, na: {e: 50.0, i: 10.0, o: 140.0}}}, axon: {geom: {L: 113.22, nseg: 1, diam: 1.1, Ra: 150.0, cm: 1.2}, topol: {parentSec: 'soma', parentX: 0.5, childX: 0.0}, mechs: {Nafx: {gnafbar: 0.75, ar2: 1.0}, kdrcb: {gkdrbar: 0.009}, pas: {g: 2.5e-05, e: -64.0}}, ions: {k: {e: -77.0, i: 54.4, o: 2.5}, na: {e: 50.0, i: 10.0, o: 140.0}}}, dend: {geom: {L: 22.0, nseg: 1, diam: 7.0, Ra: 150.0, cm: 1.2}, topol: {parentSec: 'soma', parentX: 0.0, childX: 0.0}, mechs: {Nafx: {gnafbar: 0.018, ar2: 1.0}, kapcb: {gkabar: 0.00875}, kdrcb: {gkdrbar: 0.009}, pas: {g: 2.5e-05, e: -64.0}}, ions: {k: {e: -77.0, i: 54.4, o: 2.5}, na: {e: 50.0, i: 10.0, o: 140.0}}}}, secLists: {SectionList[0]: [], SectionList[1]: [], SectionList[2]: [], SectionList[3]: [], SectionList[4]: [], SectionList[5]: [], SectionList[6]: [], SectionList[7]: [], SectionList[8]: [], SectionList[9]: [], SectionList[10]: [], SectionList[11]: []}, globals: {celsius: 23.0, ki0_k_ion: 140.0, ko0_k_ion: 3.82}, _repr_mimebundle_: {}}"
      ]
     },
     "execution_count": 16,
     "metadata": {},
     "output_type": "execute_result"
    }
   ],
   "source": [
    "netParams.importCellParams(\n",
    "        label='RSIN',\n",
    "        conds={'cellType': 'RSIN', 'cellModel': 'CBcell'},\n",
    "        fileName='cb.hoc',\n",
    "        cellName='CBcell',\n",
    "        importSynMechs=True)"
   ]
  },
  {
   "cell_type": "code",
   "execution_count": 17,
   "id": "64516ff9",
   "metadata": {},
   "outputs": [
    {
     "data": {
      "text/plain": [
       "{conds: {cellType: 'ISIN', cellModel: 'CRcell'}, secs: {soma: {geom: {L: 27.0, nseg: 1, diam: 27.0, Ra: 150.0, cm: 1.2}, topol: {}, mechs: {IKscr: {gKsbar: 0.000725}, Nafcr: {gnafbar: 0.015}, cadyn: {}, cancr: {gcabar: 0.0}, iCcr: {gkcbar: 3e-05}, kadcr: {gkabar: 0.003}, kdrcr: {gkdrbar: 0.018}, pas: {g: 5e-05, e: 0.0}}, ions: {ca: {e: 132.4579341637009, i: 5e-05, o: 2.0}, k: {e: -77.0, i: 54.4, o: 2.5}, na: {e: 50.0, i: 10.0, o: 140.0}}}, axon: {geom: {L: 113.22, nseg: 1, diam: 1.1, Ra: 150.0, cm: 1.2}, topol: {parentSec: 'soma', parentX: 0.5, childX: 0.0}, mechs: {Nafcr: {gnafbar: 0.15}, kdrcr: {gkdrbar: 0.009}, pas: {g: 5e-05, e: -70.0}}, ions: {k: {e: -77.0, i: 54.4, o: 2.5}, na: {e: 50.0, i: 10.0, o: 140.0}}}, dend_0: {geom: {L: 22.0, nseg: 1, diam: 7.0, Ra: 150.0, cm: 1.2}, topol: {parentSec: 'soma', parentX: 0.0, childX: 0.0}, mechs: {Nafcr: {gnafbar: 0.09}, kdrcr: {gkdrbar: 0.009}, pas: {g: 5e-05, e: -70.0}}, ions: {k: {e: -77.0, i: 54.4, o: 2.5}, na: {e: 50.0, i: 10.0, o: 140.0}}}, dend_1: {geom: {L: 22.0, nseg: 1, diam: 7.0, Ra: 150.0, cm: 1.2}, topol: {parentSec: 'soma', parentX: 1.0, childX: 0.0}, mechs: {Nafcr: {gnafbar: 0.09}, kdrcr: {gkdrbar: 0.009}, pas: {g: 5e-05, e: -70.0}}, ions: {k: {e: -77.0, i: 54.4, o: 2.5}, na: {e: 50.0, i: 10.0, o: 140.0}}}}, secLists: {SectionList[0]: [], SectionList[1]: [], SectionList[2]: [], SectionList[3]: [], SectionList[4]: [], SectionList[5]: [], SectionList[6]: [], SectionList[7]: [], SectionList[8]: [], SectionList[9]: [], SectionList[10]: [], SectionList[11]: []}, globals: {celsius: 23.0, ki0_k_ion: 140.0, ko0_k_ion: 3.82}, _repr_mimebundle_: {}}"
      ]
     },
     "execution_count": 17,
     "metadata": {},
     "output_type": "execute_result"
    }
   ],
   "source": [
    "netParams.importCellParams(\n",
    "        label='ISIN',\n",
    "        conds={'cellType': 'ISIN', 'cellModel': 'CRcell'},\n",
    "        fileName='cr.hoc',\n",
    "        cellName='CRcell',\n",
    "        importSynMechs=True)"
   ]
  },
  {
   "cell_type": "code",
   "execution_count": 18,
   "id": "c1b2191f",
   "metadata": {},
   "outputs": [
    {
     "data": {
      "text/plain": [
       "odict_keys(['PYR', 'FSIN', 'RSIN', 'ISIN'])"
      ]
     },
     "execution_count": 18,
     "metadata": {},
     "output_type": "execute_result"
    }
   ],
   "source": [
    "netParams.cellParams.keys()"
   ]
  },
  {
   "cell_type": "markdown",
   "id": "47cd765e",
   "metadata": {},
   "source": [
    "# Synaptic Mechanisms"
   ]
  },
  {
   "cell_type": "code",
   "execution_count": 19,
   "id": "067d0e24",
   "metadata": {},
   "outputs": [],
   "source": [
    "netParams.synMechParams['AMPA'] = {'mod': 'GLU', 'Cmax': 1.0, 'Cdur': 0.3, 'Alpha': 10, 'Beta': 0.11, 'Erev': 0}\n",
    "netParams.synMechParams['AMPAIN'] = {'mod': 'GLUIN', 'Cmax': 1.0, 'Cdur': 0.3, 'Alpha': 10, 'Beta': 0.18, 'Erev': 0}\n",
    "netParams.synMechParams['GABAA'] = {'mod': 'GABAa', 'Cmax': 1.0, 'Cdur': 1.0, 'Alpha': 5, 'Beta': 0.18, 'Erev': -80}\n",
    "netParams.synMechParams['GABAIN'] = {'mod': 'GABAain', 'Cmax': 1.0, 'Cdur': 1.0, 'Alpha': 5, 'Beta': 0.18, 'Erev': -80}\n",
    "netParams.synMechParams['NMDA'] = {'mod': 'NMDA', 'Cmax': 1.0, 'Cdur': 0.3, 'Alpha': 4, 'Beta': 0.015, 'e': 0,'mg':1.0}\n",
    "netParams.synMechParams['NMDAIN'] = {'mod': 'NMDAIN', 'Cmax': 1.0, 'Cdur': 0.3, 'Alpha': 4, 'Beta': 0.02, 'e': 0,'mg':1.0}\n",
    "netParams.synMechParams['GABAB'] = {'mod': 'GABAb', 'Cmax': 10, 'Cdur': 10, 'Alpha': 0.001, 'Beta': 0.0047, 'Erev': -80}\n"
   ]
  },
  {
   "cell_type": "markdown",
   "id": "75b5562f",
   "metadata": {},
   "source": [
    "# Now define the populations\n",
    "\n",
    "FS interneurons exhibit fast, high-frequency and short duration action potentials. Morphologically, they have been identified\n",
    "as chandelier and basket neurons and they express the calciumbinding protein, parvalbumin (PV). They innervate the soma\n",
    "and the proximal dendritic compartments of pyramidal neurons\n",
    "in the PFC (Wang et al., 2002; Zaitsev, 2005). RS interneurons exhibit RS firing pattern, are mostly double bouquet and\n",
    "Martinotti-type cells andexpress the protein calbidin (CB) (Cauli\n",
    "et al., 1997). They have been shown to innervate the distal dendritic compartments of pyramidal neurons in the PFC. IS neurons\n",
    "exhibit IS firing pattern, are primarily bipolar cells and express\n",
    "the protein calretinin (CR). They project to the dendritic compartments of both PV- and CB- positive cells - suggesting that at least some types of CR-positive cells might be disinhibitory - as well as the distal dendritic compartments of pyramidal neurons\n",
    "in the PFC (Cauli et al., 1997)."
   ]
  },
  {
   "cell_type": "code",
   "execution_count": 34,
   "id": "11ebe0bb",
   "metadata": {},
   "outputs": [
    {
     "name": "stdout",
     "output_type": "stream",
     "text": [
      "PYR\n",
      "FSIN\n",
      "RSIN\n",
      "ISIN\n"
     ]
    }
   ],
   "source": [
    "for i in netParams.cellParams.keys():\n",
    "    print(i)"
   ]
  },
  {
   "cell_type": "code",
   "execution_count": 35,
   "id": "b6e13d7c",
   "metadata": {},
   "outputs": [
    {
     "name": "stdout",
     "output_type": "stream",
     "text": [
      "Pcell\n",
      "INcell\n",
      "CBcell\n",
      "CRcell\n"
     ]
    }
   ],
   "source": [
    "for model in netParams.cellParams.keys():\n",
    "    print(netParams.cellParams[model].conds.cellModel)"
   ]
  },
  {
   "cell_type": "code",
   "execution_count": 36,
   "id": "b4accc85",
   "metadata": {},
   "outputs": [],
   "source": [
    "netParams.popParams['POPPYR'] = {'cellModel': 'Pcell', 'cellType': 'PYR',  'numCells': 16} \n",
    "netParams.popParams['POPFSIN'] =  {'cellModel': 'INcell', 'cellType': 'FSIN',  'numCells': 2} \n",
    "netParams.popParams['POPRSIN'] = {'cellModel': 'CBcell', 'cellType': 'RSIN',  'numCells': 1} \n",
    "netParams.popParams['POPISIN'] = {'cellModel': 'CRcell', 'cellType': 'ISIN',  'numCells': 16} "
   ]
  },
  {
   "cell_type": "code",
   "execution_count": 42,
   "id": "77624474",
   "metadata": {},
   "outputs": [
    {
     "data": {
      "text/plain": [
       "{Pyr-> Pyr: {'preConds': {'pop': 'POPPYR'}, 'postConds': {'pop': 'POPPYR'}, 'sec': 'dend_0', 'synMech': ['AMPA', 'NMDA'], 'weight': [0.1, 0.1], 'delay': [5, 5], 'probability': 0.1}, Pyr-> FSIN: {'preConds': {'pop': 'POPPYR'}, 'postConds': {'pop': 'POPFSIN'}, 'sec': 'dend', 'synMech': ['GABAIN'], 'weight': 0.5, 'delay': 3, 'probability': 0.1}, FSIN-> FSIN: {'preConds': {'pop': 'POPFSIN'}, 'postConds': {'pop': 'POPFSIN'}, 'sec': 'soma', 'synMech': 'GABAIN', 'weight': 0.5, 'delay': 3, 'probability': 0.1}, FSIN-> Pyr: {'preConds': {'pop': 'POPFSIN'}, 'postConds': {'pop': 'POPPYR'}, 'sec': 'soma', 'synMech': ['GABAA', 'GABAB'], 'weight': 0.5, 'delay': 3, 'probability': 0.1}, RSIN-> Pyr: {'preConds': {'pop': 'POPISIN'}, 'postConds': {'pop': 'POPPYR'}, 'sec': 'soma', 'synMech': ['GABAA', 'GABAB'], 'weight': 0.5, 'delay': 3, 'probability': 0.1}, ISIN-> Pyr: {'preConds': {'pop': 'POPRSIN'}, 'postConds': {'pop': 'POPPYR'}, 'sec': 'soma', 'synMech': ['GABAA', 'GABAB'], 'weight': 0.5, 'delay': 3, 'probability': 0.1}}"
      ]
     },
     "execution_count": 42,
     "metadata": {},
     "output_type": "execute_result"
    }
   ],
   "source": [
    "netParams.connParams"
   ]
  },
  {
   "cell_type": "code",
   "execution_count": 37,
   "id": "953e31a6",
   "metadata": {},
   "outputs": [],
   "source": [
    "## Cell connectivity rules\n",
    "netParams.connParams['Pyr-> Pyr'] = {    #  S -> M\n",
    "        'preConds': {'pop': 'POPPYR'},\n",
    "        'postConds': {'pop': 'POPPYR'},\n",
    "        'sec': 'dend_0',                  # target postsyn section\n",
    "        'synMech': ['AMPA','NMDA'],              # target synaptic mechanism\n",
    "        'weight': [0.1,0.1],                 # synaptic weight\n",
    "        'delay': [5,5],                     # transmission delay (ms)\n",
    "        'probability': 0.1}             # probability of connection\n",
    "\n",
    "netParams.connParams['Pyr-> FSIN'] = {    #  S -> M\n",
    "        'preConds': {'pop': 'POPPYR'},\n",
    "        'postConds': {'pop': 'POPFSIN'},\n",
    "        'sec': 'dend',                  # target postsyn section\n",
    "        'synMech': ['GABAIN'],              # target synaptic mechanism\n",
    "        'weight': 0.5,                 # synaptic weight\n",
    "        'delay': 3,                     # transmission delay (ms)\n",
    "        'probability': 0.1}             # probability of connection\n",
    "\n",
    "netParams.connParams['FSIN-> FSIN'] = {    #  S -> M\n",
    "        'preConds': {'pop': 'POPFSIN'},\n",
    "        'postConds': {'pop': 'POPFSIN'},\n",
    "        'sec': 'soma',                  # target postsyn section\n",
    "        'synMech': 'GABAIN',              # target synaptic mechanism\n",
    "        'weight': 0.5,                 # synaptic weight\n",
    "        'delay': 3,                     # transmission delay (ms)\n",
    "        'probability': 0.1}             # probability of connection\n",
    "\n",
    "netParams.connParams['FSIN-> Pyr'] = {    #  S -> M\n",
    "        'preConds': {'pop': 'POPFSIN'},\n",
    "        'postConds': {'pop': 'POPPYR'},\n",
    "        'sec': 'soma',                  # target postsyn section\n",
    "        'synMech': ['GABAA','GABAB'],              # target synaptic mechanism\n",
    "        'weight': 0.5,                 # synaptic weight\n",
    "        'delay': 3,                     # transmission delay (ms)\n",
    "        'probability': 0.1}             # probability of connection\n",
    "\n",
    "netParams.connParams['RSIN-> Pyr'] = {    #  S -> M\n",
    "        'preConds': {'pop': 'POPISIN'},\n",
    "        'postConds': {'pop': 'POPPYR'},\n",
    "        'sec': 'soma',                  # target postsyn section\n",
    "        'synMech': ['GABAA','GABAB'],              # target synaptic mechanism\n",
    "        'weight': 0.5,                 # synaptic weight\n",
    "        'delay': 3,                     # transmission delay (ms)\n",
    "        'probability': 0.1}             # probability of connection\n",
    "\n",
    "netParams.connParams['ISIN-> Pyr'] = {    #  S -> M\n",
    "        'preConds': {'pop': 'POPRSIN'},\n",
    "        'postConds': {'pop': 'POPPYR'},\n",
    "        'sec': 'soma',                  # target postsyn section\n",
    "        'synMech': ['GABAA','GABAB'],              # target synaptic mechanism\n",
    "        'weight': 0.5,                 # synaptic weight\n",
    "        'delay': 3,                     # transmission delay (ms)\n",
    "        'probability': 0.1}             # probability of connection\n"
   ]
  },
  {
   "cell_type": "markdown",
   "id": "6b740080",
   "metadata": {},
   "source": [
    "# Set up the simulation parameters"
   ]
  },
  {
   "cell_type": "code",
   "execution_count": 38,
   "id": "706c809b",
   "metadata": {},
   "outputs": [],
   "source": [
    "# Simulation parameters\n",
    "simConfig.duration = 1.0*1e2 # Duration of the simulation, in ms\n",
    "simConfig.dt = 0.05 # Internal integration timestep to use\n",
    "simConfig.seeds = {'conn': 1, 'stim': 1, 'loc': 1} # Seeds for randomizers (connectivity, input stimulation and cell locations)\n",
    "simConfig.createNEURONObj = 1  # create HOC objects when instantiating network\n",
    "simConfig.createPyStruct = 1  # create Python structure (simulator-independent) when instantiating network\n",
    "simConfig.verbose = 0 # Whether to write diagnostic information on events \n",
    "\n",
    "\n",
    "# Recording \n",
    "simConfig.recordCells = []  # list of cells to record from \n",
    "simConfig.recordTraces = {'V':{'sec':'soma','loc':0.5,'var':'v'}} # 'V':{'sec':'soma','loc':0.5,'var':'v'}}\n",
    "    #'V':{'sec':'soma','loc':0.5,'var':'v'}, \n",
    "    #'u':{'sec':'soma', 'pointp':'Izhi2007b_0', 'var':'u'}, \n",
    "    #'I':{'sec':'soma', 'pointp':'Izhi2007b_0', 'var':'i'}, \n",
    "    #'AMPA_i': {'sec':'soma', 'loc':'0.5', 'synMech':'AMPA', 'var':'i'},\n",
    "    #'NMDA_i': {'sec':'soma', 'loc':'0.5', 'synMech':'NMDA', 'var':'iNMDA'}}  # Dict of traces to record\n",
    "simConfig.recordStim = False  # record spikes of cell stims\n",
    "simConfig.recordStep = 0.1 # Step size in ms to save data (eg. V traces, LFP, etc)\n",
    "\n",
    "# Saving\n",
    "simConfig.filename = 'TESTONLY'  # Set file output name\n",
    "simConfig.saveFileStep = 1000 # step size in ms to save data to disk\n",
    "simConfig.savePickle = False # save to pickle file\n",
    "simConfig.saveJson = False # save to json file\n",
    "simConfig.saveMat = False # save to mat file\n",
    "simConfig.saveTxt = False # save to txt file\n",
    "simConfig.saveDpk = False # save to .dpk pickled file\n",
    "simConfig.saveHDF5 = False # save to HDF5 file \n",
    "\n",
    "\n",
    "# Analysis and plotting \n",
    "simConfig.analysis['plotRaster'] = {'orderInverse': True, 'figSize': (12,10), 'lw': 0.3,'markerSize':6, 'marker': '.', 'dpi': 300, 'saveFig': 'raster.png'} # Whether or not to plot a raster\n",
    "simConfig.analysis['plotTraces'] = {'include': [('IT_L23',10),('IT_L5A',10), ('PT_L5B',10), ('PV_L23',5)]} # plot recorded traces for this list of cells\n",
    "simConfig.analysis['plot2Dnet'] = {'showConns': False}\n"
   ]
  },
  {
   "cell_type": "code",
   "execution_count": 39,
   "id": "cd32fbb9",
   "metadata": {},
   "outputs": [
    {
     "name": "stdout",
     "output_type": "stream",
     "text": [
      "\n",
      "Start time:  2021-05-25 20:19:24.345438\n",
      "\n",
      "Creating network of 5 cell populations on 1 hosts...\n"
     ]
    },
    {
     "name": "stderr",
     "output_type": "stream",
     "text": [
      "NEURON: if arg 1 is an object it must be a point process or NULLObject\n",
      " near line 0\n",
      " ^\n",
      "        NetCon(..., ...)\n"
     ]
    },
    {
     "ename": "RuntimeError",
     "evalue": "hoc error",
     "output_type": "error",
     "traceback": [
      "\u001b[0;31m---------------------------------------------------------------------------\u001b[0m",
      "\u001b[0;31mRuntimeError\u001b[0m                              Traceback (most recent call last)",
      "\u001b[0;32m<ipython-input-39-ea4fc25b2268>\u001b[0m in \u001b[0;36m<module>\u001b[0;34m\u001b[0m\n\u001b[1;32m      1\u001b[0m \u001b[0;32mfrom\u001b[0m \u001b[0mnetpyne\u001b[0m \u001b[0;32mimport\u001b[0m \u001b[0msim\u001b[0m\u001b[0;34m\u001b[0m\u001b[0;34m\u001b[0m\u001b[0m\n\u001b[0;32m----> 2\u001b[0;31m \u001b[0msim\u001b[0m\u001b[0;34m.\u001b[0m\u001b[0mcreateSimulateAnalyze\u001b[0m\u001b[0;34m(\u001b[0m\u001b[0mnetParams\u001b[0m\u001b[0;34m=\u001b[0m\u001b[0mnetParams\u001b[0m\u001b[0;34m,\u001b[0m \u001b[0msimConfig\u001b[0m\u001b[0;34m=\u001b[0m\u001b[0msimConfig\u001b[0m\u001b[0;34m)\u001b[0m\u001b[0;34m\u001b[0m\u001b[0;34m\u001b[0m\u001b[0m\n\u001b[0m",
      "\u001b[0;32m~/.conda/envs/netpyne/lib/python3.7/site-packages/netpyne/sim/wrappers.py\u001b[0m in \u001b[0;36mcreateSimulateAnalyze\u001b[0;34m(netParams, simConfig, output)\u001b[0m\n\u001b[1;32m    200\u001b[0m \u001b[0;34m\u001b[0m\u001b[0m\n\u001b[1;32m    201\u001b[0m     \u001b[0;32mfrom\u001b[0m \u001b[0;34m.\u001b[0m\u001b[0;34m.\u001b[0m \u001b[0;32mimport\u001b[0m \u001b[0msim\u001b[0m\u001b[0;34m\u001b[0m\u001b[0;34m\u001b[0m\u001b[0m\n\u001b[0;32m--> 202\u001b[0;31m     \u001b[0;34m(\u001b[0m\u001b[0mpops\u001b[0m\u001b[0;34m,\u001b[0m \u001b[0mcells\u001b[0m\u001b[0;34m,\u001b[0m \u001b[0mconns\u001b[0m\u001b[0;34m,\u001b[0m \u001b[0mstims\u001b[0m\u001b[0;34m,\u001b[0m \u001b[0mrxd\u001b[0m\u001b[0;34m,\u001b[0m \u001b[0msimData\u001b[0m\u001b[0;34m)\u001b[0m \u001b[0;34m=\u001b[0m \u001b[0msim\u001b[0m\u001b[0;34m.\u001b[0m\u001b[0mcreate\u001b[0m\u001b[0;34m(\u001b[0m\u001b[0mnetParams\u001b[0m\u001b[0;34m,\u001b[0m \u001b[0msimConfig\u001b[0m\u001b[0;34m,\u001b[0m \u001b[0moutput\u001b[0m\u001b[0;34m=\u001b[0m\u001b[0;32mTrue\u001b[0m\u001b[0;34m)\u001b[0m\u001b[0;34m\u001b[0m\u001b[0;34m\u001b[0m\u001b[0m\n\u001b[0m\u001b[1;32m    203\u001b[0m     \u001b[0msim\u001b[0m\u001b[0;34m.\u001b[0m\u001b[0msimulate\u001b[0m\u001b[0;34m(\u001b[0m\u001b[0;34m)\u001b[0m\u001b[0;34m\u001b[0m\u001b[0;34m\u001b[0m\u001b[0m\n\u001b[1;32m    204\u001b[0m     \u001b[0msim\u001b[0m\u001b[0;34m.\u001b[0m\u001b[0manalyze\u001b[0m\u001b[0;34m(\u001b[0m\u001b[0;34m)\u001b[0m\u001b[0;34m\u001b[0m\u001b[0;34m\u001b[0m\u001b[0m\n",
      "\u001b[0;32m~/.conda/envs/netpyne/lib/python3.7/site-packages/netpyne/sim/wrappers.py\u001b[0m in \u001b[0;36mcreate\u001b[0;34m(netParams, simConfig, output)\u001b[0m\n\u001b[1;32m     48\u001b[0m     \u001b[0msim\u001b[0m\u001b[0;34m.\u001b[0m\u001b[0minitialize\u001b[0m\u001b[0;34m(\u001b[0m\u001b[0mnetParams\u001b[0m\u001b[0;34m,\u001b[0m \u001b[0msimConfig\u001b[0m\u001b[0;34m)\u001b[0m  \u001b[0;31m# create network object and set cfg and net params\u001b[0m\u001b[0;34m\u001b[0m\u001b[0;34m\u001b[0m\u001b[0m\n\u001b[1;32m     49\u001b[0m     \u001b[0mpops\u001b[0m \u001b[0;34m=\u001b[0m \u001b[0msim\u001b[0m\u001b[0;34m.\u001b[0m\u001b[0mnet\u001b[0m\u001b[0;34m.\u001b[0m\u001b[0mcreatePops\u001b[0m\u001b[0;34m(\u001b[0m\u001b[0;34m)\u001b[0m                  \u001b[0;31m# instantiate network populations\u001b[0m\u001b[0;34m\u001b[0m\u001b[0;34m\u001b[0m\u001b[0m\n\u001b[0;32m---> 50\u001b[0;31m     \u001b[0mcells\u001b[0m \u001b[0;34m=\u001b[0m \u001b[0msim\u001b[0m\u001b[0;34m.\u001b[0m\u001b[0mnet\u001b[0m\u001b[0;34m.\u001b[0m\u001b[0mcreateCells\u001b[0m\u001b[0;34m(\u001b[0m\u001b[0;34m)\u001b[0m                 \u001b[0;31m# instantiate network cells based on defined populations\u001b[0m\u001b[0;34m\u001b[0m\u001b[0;34m\u001b[0m\u001b[0m\n\u001b[0m\u001b[1;32m     51\u001b[0m     \u001b[0mconns\u001b[0m \u001b[0;34m=\u001b[0m \u001b[0msim\u001b[0m\u001b[0;34m.\u001b[0m\u001b[0mnet\u001b[0m\u001b[0;34m.\u001b[0m\u001b[0mconnectCells\u001b[0m\u001b[0;34m(\u001b[0m\u001b[0;34m)\u001b[0m                \u001b[0;31m# create connections between cells based on params\u001b[0m\u001b[0;34m\u001b[0m\u001b[0;34m\u001b[0m\u001b[0m\n\u001b[1;32m     52\u001b[0m     \u001b[0mstims\u001b[0m \u001b[0;34m=\u001b[0m \u001b[0msim\u001b[0m\u001b[0;34m.\u001b[0m\u001b[0mnet\u001b[0m\u001b[0;34m.\u001b[0m\u001b[0maddStims\u001b[0m\u001b[0;34m(\u001b[0m\u001b[0;34m)\u001b[0m                    \u001b[0;31m# add external stimulation to cells (IClamps etc)\u001b[0m\u001b[0;34m\u001b[0m\u001b[0;34m\u001b[0m\u001b[0m\n",
      "\u001b[0;32m~/.conda/envs/netpyne/lib/python3.7/site-packages/netpyne/network/network.py\u001b[0m in \u001b[0;36mcreateCells\u001b[0;34m(self)\u001b[0m\n\u001b[1;32m     84\u001b[0m \u001b[0;34m\u001b[0m\u001b[0m\n\u001b[1;32m     85\u001b[0m         \u001b[0;32mfor\u001b[0m \u001b[0mipop\u001b[0m \u001b[0;32min\u001b[0m \u001b[0mlist\u001b[0m\u001b[0;34m(\u001b[0m\u001b[0mself\u001b[0m\u001b[0;34m.\u001b[0m\u001b[0mpops\u001b[0m\u001b[0;34m.\u001b[0m\u001b[0mvalues\u001b[0m\u001b[0;34m(\u001b[0m\u001b[0;34m)\u001b[0m\u001b[0;34m)\u001b[0m\u001b[0;34m:\u001b[0m \u001b[0;31m# For each pop instantiate the network cells (objects of class 'Cell')\u001b[0m\u001b[0;34m\u001b[0m\u001b[0;34m\u001b[0m\u001b[0m\n\u001b[0;32m---> 86\u001b[0;31m             \u001b[0mnewCells\u001b[0m \u001b[0;34m=\u001b[0m \u001b[0mipop\u001b[0m\u001b[0;34m.\u001b[0m\u001b[0mcreateCells\u001b[0m\u001b[0;34m(\u001b[0m\u001b[0;34m)\u001b[0m \u001b[0;31m# create cells for this pop using Pop method\u001b[0m\u001b[0;34m\u001b[0m\u001b[0;34m\u001b[0m\u001b[0m\n\u001b[0m\u001b[1;32m     87\u001b[0m             \u001b[0mself\u001b[0m\u001b[0;34m.\u001b[0m\u001b[0mcells\u001b[0m\u001b[0;34m.\u001b[0m\u001b[0mextend\u001b[0m\u001b[0;34m(\u001b[0m\u001b[0mnewCells\u001b[0m\u001b[0;34m)\u001b[0m  \u001b[0;31m# add to list of cells\u001b[0m\u001b[0;34m\u001b[0m\u001b[0;34m\u001b[0m\u001b[0m\n\u001b[1;32m     88\u001b[0m             \u001b[0msim\u001b[0m\u001b[0;34m.\u001b[0m\u001b[0mpc\u001b[0m\u001b[0;34m.\u001b[0m\u001b[0mbarrier\u001b[0m\u001b[0;34m(\u001b[0m\u001b[0;34m)\u001b[0m\u001b[0;34m\u001b[0m\u001b[0;34m\u001b[0m\u001b[0m\n",
      "\u001b[0;32m~/.conda/envs/netpyne/lib/python3.7/site-packages/netpyne/network/pop.py\u001b[0m in \u001b[0;36mcreateCells\u001b[0;34m(self)\u001b[0m\n\u001b[1;32m     77\u001b[0m         \u001b[0;31m# create cells based on fixed number of cells\u001b[0m\u001b[0;34m\u001b[0m\u001b[0;34m\u001b[0m\u001b[0;34m\u001b[0m\u001b[0m\n\u001b[1;32m     78\u001b[0m         \u001b[0;32melif\u001b[0m \u001b[0;34m'numCells'\u001b[0m \u001b[0;32min\u001b[0m \u001b[0mself\u001b[0m\u001b[0;34m.\u001b[0m\u001b[0mtags\u001b[0m\u001b[0;34m:\u001b[0m\u001b[0;34m\u001b[0m\u001b[0;34m\u001b[0m\u001b[0m\n\u001b[0;32m---> 79\u001b[0;31m             \u001b[0mcells\u001b[0m \u001b[0;34m=\u001b[0m \u001b[0mself\u001b[0m\u001b[0;34m.\u001b[0m\u001b[0mcreateCellsFixedNum\u001b[0m\u001b[0;34m(\u001b[0m\u001b[0;34m)\u001b[0m\u001b[0;34m\u001b[0m\u001b[0;34m\u001b[0m\u001b[0m\n\u001b[0m\u001b[1;32m     80\u001b[0m \u001b[0;34m\u001b[0m\u001b[0m\n\u001b[1;32m     81\u001b[0m         \u001b[0;31m# create cells based on density (optional ynorm-dep)\u001b[0m\u001b[0;34m\u001b[0m\u001b[0;34m\u001b[0m\u001b[0;34m\u001b[0m\u001b[0m\n",
      "\u001b[0;32m~/.conda/envs/netpyne/lib/python3.7/site-packages/netpyne/network/pop.py\u001b[0m in \u001b[0;36mcreateCellsFixedNum\u001b[0;34m(self)\u001b[0m\n\u001b[1;32m    173\u001b[0m                     \u001b[0;32melse\u001b[0m\u001b[0;34m:\u001b[0m\u001b[0;34m\u001b[0m\u001b[0;34m\u001b[0m\u001b[0m\n\u001b[1;32m    174\u001b[0m                         \u001b[0mcellTags\u001b[0m\u001b[0;34m[\u001b[0m\u001b[0;34m'params'\u001b[0m\u001b[0;34m]\u001b[0m\u001b[0;34m[\u001b[0m\u001b[0;34m'rates'\u001b[0m\u001b[0;34m]\u001b[0m \u001b[0;34m=\u001b[0m \u001b[0;34m[\u001b[0m\u001b[0mself\u001b[0m\u001b[0;34m.\u001b[0m\u001b[0mtags\u001b[0m\u001b[0;34m[\u001b[0m\u001b[0;34m'dynamicRates'\u001b[0m\u001b[0;34m]\u001b[0m\u001b[0;34m[\u001b[0m\u001b[0;34m'rates'\u001b[0m\u001b[0;34m]\u001b[0m\u001b[0;34m,\u001b[0m \u001b[0mself\u001b[0m\u001b[0;34m.\u001b[0m\u001b[0mtags\u001b[0m\u001b[0;34m[\u001b[0m\u001b[0;34m'dynamicRates'\u001b[0m\u001b[0;34m]\u001b[0m\u001b[0;34m[\u001b[0m\u001b[0;34m'times'\u001b[0m\u001b[0;34m]\u001b[0m\u001b[0;34m]\u001b[0m \u001b[0;31m# 1D list (same for all)\u001b[0m\u001b[0;34m\u001b[0m\u001b[0;34m\u001b[0m\u001b[0m\n\u001b[0;32m--> 175\u001b[0;31m             \u001b[0mcells\u001b[0m\u001b[0;34m.\u001b[0m\u001b[0mappend\u001b[0m\u001b[0;34m(\u001b[0m\u001b[0mself\u001b[0m\u001b[0;34m.\u001b[0m\u001b[0mcellModelClass\u001b[0m\u001b[0;34m(\u001b[0m\u001b[0mgid\u001b[0m\u001b[0;34m,\u001b[0m \u001b[0mcellTags\u001b[0m\u001b[0;34m)\u001b[0m\u001b[0;34m)\u001b[0m \u001b[0;31m# instantiate Cell object\u001b[0m\u001b[0;34m\u001b[0m\u001b[0;34m\u001b[0m\u001b[0m\n\u001b[0m\u001b[1;32m    176\u001b[0m \u001b[0;34m\u001b[0m\u001b[0m\n\u001b[1;32m    177\u001b[0m             \u001b[0;32mif\u001b[0m \u001b[0msim\u001b[0m\u001b[0;34m.\u001b[0m\u001b[0mcfg\u001b[0m\u001b[0;34m.\u001b[0m\u001b[0mverbose\u001b[0m\u001b[0;34m:\u001b[0m \u001b[0mprint\u001b[0m\u001b[0;34m(\u001b[0m\u001b[0;34m(\u001b[0m\u001b[0;34m'Cell %d/%d (gid=%d) of pop %s, on node %d, '\u001b[0m\u001b[0;34m%\u001b[0m\u001b[0;34m(\u001b[0m\u001b[0mi\u001b[0m\u001b[0;34m,\u001b[0m \u001b[0msim\u001b[0m\u001b[0;34m.\u001b[0m\u001b[0mnet\u001b[0m\u001b[0;34m.\u001b[0m\u001b[0mparams\u001b[0m\u001b[0;34m.\u001b[0m\u001b[0mscale\u001b[0m \u001b[0;34m*\u001b[0m \u001b[0mself\u001b[0m\u001b[0;34m.\u001b[0m\u001b[0mtags\u001b[0m\u001b[0;34m[\u001b[0m\u001b[0;34m'numCells'\u001b[0m\u001b[0;34m]\u001b[0m\u001b[0;34m-\u001b[0m\u001b[0;36m1\u001b[0m\u001b[0;34m,\u001b[0m \u001b[0mgid\u001b[0m\u001b[0;34m,\u001b[0m \u001b[0mself\u001b[0m\u001b[0;34m.\u001b[0m\u001b[0mtags\u001b[0m\u001b[0;34m[\u001b[0m\u001b[0;34m'pop'\u001b[0m\u001b[0;34m]\u001b[0m\u001b[0;34m,\u001b[0m \u001b[0msim\u001b[0m\u001b[0;34m.\u001b[0m\u001b[0mrank\u001b[0m\u001b[0;34m)\u001b[0m\u001b[0;34m)\u001b[0m\u001b[0;34m)\u001b[0m\u001b[0;34m\u001b[0m\u001b[0;34m\u001b[0m\u001b[0m\n",
      "\u001b[0;32m~/.conda/envs/netpyne/lib/python3.7/site-packages/netpyne/cell/pointCell.py\u001b[0m in \u001b[0;36m__init__\u001b[0;34m(self, gid, tags, create, associateGid)\u001b[0m\n\u001b[1;32m     61\u001b[0m         \u001b[0;32mif\u001b[0m \u001b[0mcreate\u001b[0m \u001b[0;32mand\u001b[0m \u001b[0msim\u001b[0m\u001b[0;34m.\u001b[0m\u001b[0mcfg\u001b[0m\u001b[0;34m.\u001b[0m\u001b[0mcreateNEURONObj\u001b[0m\u001b[0;34m:\u001b[0m\u001b[0;34m\u001b[0m\u001b[0;34m\u001b[0m\u001b[0m\n\u001b[1;32m     62\u001b[0m             \u001b[0mself\u001b[0m\u001b[0;34m.\u001b[0m\u001b[0mcreateNEURONObj\u001b[0m\u001b[0;34m(\u001b[0m\u001b[0;34m)\u001b[0m  \u001b[0;31m# create cell\u001b[0m\u001b[0;34m\u001b[0m\u001b[0;34m\u001b[0m\u001b[0m\n\u001b[0;32m---> 63\u001b[0;31m         \u001b[0;32mif\u001b[0m \u001b[0massociateGid\u001b[0m\u001b[0;34m:\u001b[0m \u001b[0mself\u001b[0m\u001b[0;34m.\u001b[0m\u001b[0massociateGid\u001b[0m\u001b[0;34m(\u001b[0m\u001b[0;34m)\u001b[0m \u001b[0;31m# register cell for this node\u001b[0m\u001b[0;34m\u001b[0m\u001b[0;34m\u001b[0m\u001b[0m\n\u001b[0m\u001b[1;32m     64\u001b[0m \u001b[0;34m\u001b[0m\u001b[0m\n\u001b[1;32m     65\u001b[0m     \u001b[0;32mdef\u001b[0m \u001b[0m__str__\u001b[0m \u001b[0;34m(\u001b[0m\u001b[0mself\u001b[0m\u001b[0;34m)\u001b[0m\u001b[0;34m:\u001b[0m\u001b[0;34m\u001b[0m\u001b[0;34m\u001b[0m\u001b[0m\n",
      "\u001b[0;32m~/.conda/envs/netpyne/lib/python3.7/site-packages/netpyne/cell/pointCell.py\u001b[0m in \u001b[0;36massociateGid\u001b[0;34m(self, threshold)\u001b[0m\n\u001b[1;32m    314\u001b[0m                 \u001b[0mnc\u001b[0m \u001b[0;34m=\u001b[0m \u001b[0mh\u001b[0m\u001b[0;34m.\u001b[0m\u001b[0mNetCon\u001b[0m\u001b[0;34m(\u001b[0m\u001b[0mgetattr\u001b[0m\u001b[0;34m(\u001b[0m\u001b[0mself\u001b[0m\u001b[0;34m.\u001b[0m\u001b[0mhPointp\u001b[0m\u001b[0;34m,\u001b[0m \u001b[0;34m'_ref_'\u001b[0m\u001b[0;34m+\u001b[0m\u001b[0mself\u001b[0m\u001b[0;34m.\u001b[0m\u001b[0mtags\u001b[0m\u001b[0;34m[\u001b[0m\u001b[0;34m'vref'\u001b[0m\u001b[0;34m]\u001b[0m\u001b[0;34m)\u001b[0m\u001b[0;34m,\u001b[0m \u001b[0;32mNone\u001b[0m\u001b[0;34m)\u001b[0m\u001b[0;34m\u001b[0m\u001b[0;34m\u001b[0m\u001b[0m\n\u001b[1;32m    315\u001b[0m             \u001b[0;32melse\u001b[0m\u001b[0;34m:\u001b[0m\u001b[0;34m\u001b[0m\u001b[0;34m\u001b[0m\u001b[0m\n\u001b[0;32m--> 316\u001b[0;31m                 \u001b[0mnc\u001b[0m \u001b[0;34m=\u001b[0m \u001b[0mh\u001b[0m\u001b[0;34m.\u001b[0m\u001b[0mNetCon\u001b[0m\u001b[0;34m(\u001b[0m\u001b[0mself\u001b[0m\u001b[0;34m.\u001b[0m\u001b[0mhPointp\u001b[0m\u001b[0;34m,\u001b[0m \u001b[0;32mNone\u001b[0m\u001b[0;34m)\u001b[0m\u001b[0;34m\u001b[0m\u001b[0;34m\u001b[0m\u001b[0m\n\u001b[0m\u001b[1;32m    317\u001b[0m             \u001b[0mthreshold\u001b[0m \u001b[0;34m=\u001b[0m \u001b[0mthreshold\u001b[0m \u001b[0;32mif\u001b[0m \u001b[0mthreshold\u001b[0m \u001b[0;32mis\u001b[0m \u001b[0;32mnot\u001b[0m \u001b[0;32mNone\u001b[0m \u001b[0;32melse\u001b[0m \u001b[0msim\u001b[0m\u001b[0;34m.\u001b[0m\u001b[0mnet\u001b[0m\u001b[0;34m.\u001b[0m\u001b[0mparams\u001b[0m\u001b[0;34m.\u001b[0m\u001b[0mdefaultThreshold\u001b[0m\u001b[0;34m\u001b[0m\u001b[0;34m\u001b[0m\u001b[0m\n\u001b[1;32m    318\u001b[0m             \u001b[0mnc\u001b[0m\u001b[0;34m.\u001b[0m\u001b[0mthreshold\u001b[0m \u001b[0;34m=\u001b[0m \u001b[0mthreshold\u001b[0m\u001b[0;34m\u001b[0m\u001b[0;34m\u001b[0m\u001b[0m\n",
      "\u001b[0;31mRuntimeError\u001b[0m: hoc error"
     ]
    }
   ],
   "source": [
    "from netpyne import sim\n",
    "sim.createSimulateAnalyze(netParams=netParams, simConfig=simConfig)"
   ]
  },
  {
   "cell_type": "code",
   "execution_count": null,
   "id": "1a522956",
   "metadata": {},
   "outputs": [],
   "source": []
  },
  {
   "cell_type": "code",
   "execution_count": 42,
   "id": "435b63ef",
   "metadata": {},
   "outputs": [],
   "source": [
    "# Stimulation parameters\n",
    "netParams.stimSourceParams['background_E']  = {'type': 'NetStim', 'rate': 10, 'noise': 1.0} # background inputs to Exc\n",
    "netParams.stimSourceParams['background_I']  = {'type': 'NetStim', 'rate': 10, 'noise': 1.0} # background inputs to Inh\n",
    "\n",
    "netParams.stimTargetParams['bgE->IT,CT'] = {'source': 'background_E', 'conds': {'cellType': ['PYR']}, \n",
    "                                            'synMech': 'AMPA', 'weight': 0.1, 'delay': '2+normal(5,3)'}  \n",
    "netParams.stimTargetParams['bgI->PV'] = {'source': 'background_E', 'conds': {'cellType': ['FSIN']}, \n",
    "                                            'synMech': 'AMPA', 'weight': 0.05, 'delay': '2+normal(5,3)'}  \n",
    "netParams.stimTargetParams['bgI->SOM'] = {'source': 'background_E', 'conds': {'cellType': ['RSIN','ISIN']}, \n",
    "                                            'synMech': 'AMPA', 'weight': 0.03, 'delay': '2+normal(5,3)'}  \n",
    "\n",
    "# List of connectivity rules/params\n",
    "netParams.ItoIweight = 0.5\n"
   ]
  }
 ],
 "metadata": {
  "kernelspec": {
   "display_name": "Python 3",
   "language": "python",
   "name": "python3"
  },
  "language_info": {
   "codemirror_mode": {
    "name": "ipython",
    "version": 3
   },
   "file_extension": ".py",
   "mimetype": "text/x-python",
   "name": "python",
   "nbconvert_exporter": "python",
   "pygments_lexer": "ipython3",
   "version": "3.7.10"
  }
 },
 "nbformat": 4,
 "nbformat_minor": 5
}
